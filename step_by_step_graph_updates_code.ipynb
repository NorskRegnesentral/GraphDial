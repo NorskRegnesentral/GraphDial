{
 "cells": [
  {
   "cell_type": "code",
   "execution_count": 3,
   "id": "a2fe0255",
   "metadata": {},
   "outputs": [],
   "source": [
    "import mgclient"
   ]
  },
  {
   "cell_type": "markdown",
   "id": "c321575e",
   "metadata": {},
   "source": [
    "Connect to database"
   ]
  },
  {
   "cell_type": "code",
   "execution_count": 4,
   "id": "1d95eceb",
   "metadata": {},
   "outputs": [],
   "source": [
    "conn = mgclient.connect(host='127.0.0.1', port=7687)\n",
    "cursor = conn.cursor()"
   ]
  },
  {
   "cell_type": "markdown",
   "id": "dc34138d",
   "metadata": {},
   "source": [
    "Step 1<br>\n",
    "This first step gets one of its inputs, properties, from Google Cloud Speech, containing speech recognition hypotheses and properties related to these. The mess_dict\\['id'\\] contains a unique integer ID denoting the human utterance."
   ]
  },
  {
   "cell_type": "code",
   "execution_count": null,
   "id": "2c701977",
   "metadata": {},
   "outputs": [],
   "source": [
    "query = \"CREATE (:ASRHypothesis {properties})<-[:ALTERNATIVE]-(:HumanUtterance {id: {mess_dict['id']}})\"\n",
    "cursor.execute(query)"
   ]
  },
  {
   "cell_type": "markdown",
   "id": "ca5e4066",
   "metadata": {},
   "source": [
    "Step 2<br>\n",
    "rasa_nlu refers to a Natural Language Understanding module that extracts entities and intents from the given speech recognition hypothesis."
   ]
  },
  {
   "cell_type": "code",
   "execution_count": null,
   "id": "13c145a3",
   "metadata": {},
   "outputs": [],
   "source": [
    "query = \"MATCH (u:HumanUtterance)-[:ALTERNATIVE]->(h:ASRHypothesis) \" \\\n",
    "    + \"CALL rasa_nlu.run(h.transcript) YIELD intents, entities \" \\\n",
    "    + \"UNWIND intents as intent \" \\\n",
    "    + \"MERGE (i:Intent {name:intent.name, prob:intent.prob})-[:INFERRED_FROM]->(h) \" \\\n",
    "    + \"WITH entities, h, i, size(entities) > 0 as len \" \\\n",
    "    + \"UNWIND CASE len WHEN TRUE THEN entities ELSE [{entity: 'dummy', value: 'dummy', prob: 0, start: 'No', end: 'No'}] END as entity \" \\\n",
    "    + \"MERGE (em:EntityMention {entity:entity.entity, value:entity.value, prob:entity.prob, start:entity.start, end:entity.end})-[:INFERRED_FROM]->(h);\"\n",
    "cursor.execute(query)"
   ]
  },
  {
   "cell_type": "markdown",
   "id": "6c1fd93d",
   "metadata": {},
   "source": [
    "Step 3<br>\n",
    "For now, we use the CONTAINS keyword in Cypher to detect whether the name of the entity mention refers to an actual person in the database. This is, however, not an optimal solution, and further processing of strings needs to be done to get an accurate match.\n"
   ]
  },
  {
   "cell_type": "code",
   "execution_count": 11,
   "id": "d50d09ba",
   "metadata": {},
   "outputs": [],
   "source": [
    "query = \"MATCH (em:EntityMention {entity: 'person'}), (p:Person) \" \\\n",
    "    + \"WHERE toLower(p.name) CONTAINS toLower(em.value) \" \\\n",
    "    + \"MERGE (em)<-[:INFERRED_FROM]-(p);\"\n",
    "cursor.execute(query)"
   ]
  },
  {
   "cell_type": "markdown",
   "id": "928babdf",
   "metadata": {},
   "source": [
    "Step 4"
   ]
  },
  {
   "cell_type": "code",
   "execution_count": 12,
   "id": "8bc7adce",
   "metadata": {},
   "outputs": [],
   "source": [
    "query = \"MATCH (em:EntityMention)<-[:INFERRED_FROM]-(p:Person) \" \\\n",
    "    + \"MATCH (ah:ASRHypothesis)<-[:INFERRED_FROM]-(em)<-[:INFERRED_FROM]-(p) \" \\\n",
    "    + \"MATCH (i:Intent {name: 'request_person_location'})-[:INFERRED_FROM]->(ah) \" \\\n",
    "    + \"MATCH (p)-[:LOCATED_IN]->(l:Location) \" \\\n",
    "    + \"MERGE (r:Response {name: 'inform_person_location'})-[:INFERRED_FROM]->(i) \" \\\n",
    "    + \"MERGE (r)<-[:ARG_OF]-(l) \" \\\n",
    "    + \"MERGE (r)<-[:ARG_OF]-(p);\"\n",
    "cursor.execute(query)"
   ]
  },
  {
   "cell_type": "markdown",
   "id": "6153000a",
   "metadata": {},
   "source": [
    "Step 5"
   ]
  },
  {
   "cell_type": "code",
   "execution_count": 13,
   "id": "5c55b626",
   "metadata": {},
   "outputs": [],
   "source": [
    "query = \"MATCH (r:Response {name: 'inform_person_location'})-[:ANSWERS_TO]->(:Intent {name: 'request_person_location'}) \" \\\n",
    "    + \"MATCH (r)<-[:ARG_OF]-(l:Location) \" \\\n",
    "    + \"MATCH (r)<-[:ARG_OF]-(p:Person) \" \\\n",
    "    + \"MERGE (ru:RobotUtterance {transcript: p.name + ' is at ' + l.name}) \" \\\n",
    "    + \"MERGE (ru)<-[:ARG_OF]-(p) \" \\\n",
    "    + \"MERGE (ru)<-[:ARG_OF]-(l) \" \\\n",
    "    + \"MERGE (ru)-[:SURFACE_REALISATION]->(r);\"\n",
    "cursor.execute(query)"
   ]
  },
  {
   "cell_type": "code",
   "execution_count": 14,
   "id": "29502ec2",
   "metadata": {},
   "outputs": [],
   "source": [
    "conn.commit()"
   ]
  }
 ],
 "metadata": {
  "kernelspec": {
   "display_name": "Python 3",
   "language": "python",
   "name": "python3"
  },
  "language_info": {
   "codemirror_mode": {
    "name": "ipython",
    "version": 3
   },
   "file_extension": ".py",
   "mimetype": "text/x-python",
   "name": "python",
   "nbconvert_exporter": "python",
   "pygments_lexer": "ipython3",
   "version": "3.8.8"
  }
 },
 "nbformat": 4,
 "nbformat_minor": 5
}
