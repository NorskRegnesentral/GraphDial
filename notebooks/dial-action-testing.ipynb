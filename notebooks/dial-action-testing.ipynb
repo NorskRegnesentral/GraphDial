{
 "cells": [
  {
   "cell_type": "code",
   "execution_count": 14,
   "id": "a02521cd",
   "metadata": {},
   "outputs": [],
   "source": [
    "import time\n",
    "import numpy as np\n",
    "import pandas as pd\n",
    "import mgclient\n",
    "from mgclient import Node\n",
    "from mgclient import Relationship\n",
    "from mgclient import Path\n",
    "\n",
    "from rasa.nlu.model import Interpreter"
   ]
  },
  {
   "cell_type": "code",
   "execution_count": 3,
   "id": "0c132950",
   "metadata": {},
   "outputs": [
    {
     "name": "stderr",
     "output_type": "stream",
     "text": [
      "\u001b[93mc:\\users\\walker\\documents\\graphdial-local\\rasa_test\\lib\\site-packages\\rasa\\utils\\train_utils.py:605: UserWarning: model_confidence is set to `softmax`. It is recommended to try using `model_confidence=linear_norm` to make it easier to tune fallback thresholds.\n",
      "  category=UserWarning,\n",
      "\u001b[0m"
     ]
    }
   ],
   "source": [
    "rasa_model_path = \"nlu\"\n",
    "\n",
    "# create an interpreter object\n",
    "interpreter = Interpreter.load(rasa_model_path)"
   ]
  },
  {
   "cell_type": "code",
   "execution_count": 4,
   "id": "40b7ec9d",
   "metadata": {},
   "outputs": [],
   "source": [
    "def rasa_output(text):\n",
    "    message = str(text).strip()\n",
    "    result = interpreter.parse(message)\n",
    "    return result"
   ]
  },
  {
   "cell_type": "code",
   "execution_count": 27,
   "id": "d17e72a8",
   "metadata": {},
   "outputs": [
    {
     "data": {
      "text/plain": [
       "{'text': 'What time is the Graphdial meeting?',\n",
       " 'intent': {'id': -1602489204381926920,\n",
       "  'name': 'request_event_time_start',\n",
       "  'confidence': 0.8569729328155518},\n",
       " 'entities': [{'entity': 'event',\n",
       "   'start': 17,\n",
       "   'end': 34,\n",
       "   'confidence_entity': 0.9834985136985779,\n",
       "   'value': 'Graphdial meeting',\n",
       "   'extractor': 'DIETClassifier'}],\n",
       " 'intent_ranking': [{'id': -1602489204381926920,\n",
       "   'name': 'request_event_time_start',\n",
       "   'confidence': 0.8569729328155518},\n",
       "  {'id': -2867182102024695439,\n",
       "   'name': 'request_event_time_end',\n",
       "   'confidence': 0.08305967599153519},\n",
       "  {'id': 5721148937090489285,\n",
       "   'name': 'greet',\n",
       "   'confidence': 0.011914342641830444},\n",
       "  {'id': -7126434914801987457,\n",
       "   'name': 'request_event_attendees',\n",
       "   'confidence': 0.010421092621982098},\n",
       "  {'id': 2160635152964116716,\n",
       "   'name': 'request_person_availability',\n",
       "   'confidence': 0.01024090126156807},\n",
       "  {'id': -4545438472599039058,\n",
       "   'name': 'request_event_number_attendees',\n",
       "   'confidence': 0.008593101985752583},\n",
       "  {'id': 5656623686007807522,\n",
       "   'name': 'request_person_phone',\n",
       "   'confidence': 0.00836710911244154},\n",
       "  {'id': 177309197873540854,\n",
       "   'name': 'move_to_person',\n",
       "   'confidence': 0.005350523628294468},\n",
       "  {'id': 2691213496541867738,\n",
       "   'name': 'request_event_duration',\n",
       "   'confidence': 0.002957774791866541},\n",
       "  {'id': 3667722137043408756,\n",
       "   'name': 'move_to_event',\n",
       "   'confidence': 0.002122565871104598}],\n",
       " 'response_selector': {'all_retrieval_intents': [],\n",
       "  'default': {'response': {'id': None,\n",
       "    'responses': None,\n",
       "    'response_templates': None,\n",
       "    'confidence': 0.0,\n",
       "    'intent_response_key': None,\n",
       "    'utter_action': 'utter_None',\n",
       "    'template_name': 'utter_None'},\n",
       "   'ranking': []}}}"
      ]
     },
     "execution_count": 27,
     "metadata": {},
     "output_type": "execute_result"
    }
   ],
   "source": [
    "entity = rasa_output(\"What time is the Graphdial meeting?\")['entities'][0]['value']\n",
    "rasa_output(\"What time is the Graphdial meeting?\")"
   ]
  },
  {
   "cell_type": "code",
   "execution_count": 21,
   "id": "b853dbd4",
   "metadata": {},
   "outputs": [
    {
     "name": "stdout",
     "output_type": "stream",
     "text": [
      "MATCH (node)-[r]-(node2) WHERE node2.name = \"Graphdial meeting\" RETURN DISTINCT node, r, node2\n"
     ]
    }
   ],
   "source": [
    "conn = mgclient.connect(host='127.0.0.1', port=7687)\n",
    "\n",
    "cursor = conn.cursor()\n",
    "query = \"MATCH (node)-[r]-(node2) WHERE node2.name = \\\"\" + entity + \"\\\" RETURN DISTINCT node, r, node2\"\n",
    "\n",
    "print(query)\n",
    "\n",
    "cursor.execute(query)\n",
    "rows = cursor.fetchall()\n",
    "\n",
    "for row in rows:\n",
    "    print(row)\n",
    "\n",
    "    "
   ]
  },
  {
   "cell_type": "code",
   "execution_count": null,
   "id": "b044a8f6",
   "metadata": {},
   "outputs": [],
   "source": [
    "class Entity():\n",
    "    def __init__(self, timestamp=time.time()):\n",
    "        self.created = timestamp"
   ]
  },
  {
   "cell_type": "code",
   "execution_count": null,
   "id": "9b3e4c11",
   "metadata": {},
   "outputs": [],
   "source": [
    "class Person(Entity):\n",
    "    def __init__(self, firstname, lastname, timestamp=time.time()):\n",
    "        self.created = timestamp\n",
    "        "
   ]
  },
  {
   "cell_type": "code",
   "execution_count": null,
   "id": "b5902262",
   "metadata": {},
   "outputs": [],
   "source": [
    "class Task(Entity):\n",
    "    def __init__(self, type, completed=False, args=[], timestamp=time.time()):\n",
    "        self.created = timestamp\n",
    "        self.type = type\n",
    "        self.completed = completed\n",
    "        self.args = args\n",
    "    "
   ]
  },
  {
   "cell_type": "code",
   "execution_count": null,
   "id": "46df4afe",
   "metadata": {},
   "outputs": [],
   "source": [
    "class Utterance(Entity):\n",
    "    def __init__(self, text, timestamp=time.time()):\n",
    "        self.created = timestamp\n",
    "        \n",
    "        self.transcript = text.split()\n",
    "        "
   ]
  },
  {
   "cell_type": "code",
   "execution_count": null,
   "id": "9cd52a62",
   "metadata": {},
   "outputs": [],
   "source": [
    "utt = Utterance(\"Hello Pepper, can you help me find someone?\")\n",
    "print(utt.transcript)"
   ]
  },
  {
   "cell_type": "code",
   "execution_count": null,
   "id": "2809e500",
   "metadata": {},
   "outputs": [],
   "source": []
  }
 ],
 "metadata": {
  "kernelspec": {
   "display_name": "Python 3 (ipykernel)",
   "language": "python",
   "name": "python3"
  },
  "language_info": {
   "codemirror_mode": {
    "name": "ipython",
    "version": 3
   },
   "file_extension": ".py",
   "mimetype": "text/x-python",
   "name": "python",
   "nbconvert_exporter": "python",
   "pygments_lexer": "ipython3",
   "version": "3.7.4"
  }
 },
 "nbformat": 4,
 "nbformat_minor": 5
}
