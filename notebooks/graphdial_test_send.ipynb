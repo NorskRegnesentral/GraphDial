{
 "cells": [
  {
   "cell_type": "code",
   "execution_count": 2,
   "id": "8f294539",
   "metadata": {},
   "outputs": [
    {
     "name": "stdout",
     "output_type": "stream",
     "text": [
      "Connecting to server…\n",
      "Sending request…\n"
     ]
    }
   ],
   "source": [
    "# Send requests to the dialog system.\n",
    "\n",
    "import zmq\n",
    "\n",
    "context = zmq.Context()\n",
    "\n",
    "print(\"Connecting to dialog system…\")\n",
    "socket = context.socket(zmq.PUSH)\n",
    "socket.connect(\"tcp://localhost:5555\")\n",
    "\n",
    "print(\"Sending request…\") \n",
    "# Example request.\n",
    "transcript = \"Is Alex available?\"\n",
    "msg = '{\"id\":862,\"start\":1626347730,\"end\":1626347733,\"label\":\"HumanUtterance\",\"isFinal\":true,\"hypotheses\":\"[{\\'transcript\\':\\'%s\\',\\'confidence\\':0.8964862823486328}]\"}' % transcript\n",
    "socket.send_string(msg)"
   ]
  }
 ],
 "metadata": {
  "kernelspec": {
   "display_name": "Python 3",
   "language": "python",
   "name": "python3"
  },
  "language_info": {
   "codemirror_mode": {
    "name": "ipython",
    "version": 3
   },
   "file_extension": ".py",
   "mimetype": "text/x-python",
   "name": "python",
   "nbconvert_exporter": "python",
   "pygments_lexer": "ipython3",
   "version": "3.8.8"
  }
 },
 "nbformat": 4,
 "nbformat_minor": 5
}
