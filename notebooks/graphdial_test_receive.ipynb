{
 "cells": [
  {
   "cell_type": "code",
   "execution_count": null,
   "id": "2983a4a8",
   "metadata": {},
   "outputs": [],
   "source": [
    "# Receive messages from the dialog system.\n",
    "\n",
    "import zmq\n",
    "# import json\n",
    "\n",
    "context = zmq.Context()\n",
    "\n",
    "print(\"Connecting to dialog system…\")\n",
    "socket = context.socket(zmq.PULL)\n",
    "socket.connect(\"tcp://localhost:5556\")\n",
    "\n",
    "print(\"Receiving request…\") \n",
    "while (True):\n",
    "    message = socket.recv()\n",
    "    # If the received message is in JSON-format, convert using the following:\n",
    "    # data = json.loads(message)\n",
    "    print(f\"Received message: {message.decode('utf-8', 'ignore')}\")  "
   ]
  }
 ],
 "metadata": {
  "kernelspec": {
   "display_name": "Python 3",
   "language": "python",
   "name": "python3"
  },
  "language_info": {
   "codemirror_mode": {
    "name": "ipython",
    "version": 3
   },
   "file_extension": ".py",
   "mimetype": "text/x-python",
   "name": "python",
   "nbconvert_exporter": "python",
   "pygments_lexer": "ipython3",
   "version": "3.8.8"
  }
 },
 "nbformat": 4,
 "nbformat_minor": 5
}
